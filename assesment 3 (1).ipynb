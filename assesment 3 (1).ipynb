{
 "cells": [
  {
   "cell_type": "code",
   "execution_count": 14,
   "id": "c5b6f80f-96d3-4fe6-82ed-fd1f5be78744",
   "metadata": {},
   "outputs": [
    {
     "name": "stdout",
     "output_type": "stream",
     "text": [
      "[1, 3, 5, 7, 9, 11, 13, 15, 17, 19, 21, 23, 25]\n"
     ]
    }
   ],
   "source": [
    "#1.Which keyword is used to create a function? Create a function to return a list of odd numbers in the range of 1 to 25.\n",
    "\n",
    "def get_odd_numbers():\n",
    "    odd_numbers = []\n",
    "    for number in range(1, 26) :\n",
    "        if number % 2!= 0 :\n",
    "            odd_numbers.append (number)\n",
    "    return odd_numbers\n",
    "odd_numbers_list = get_odd_numbers()\n",
    "print(odd_numbers_list)"
   ]
  },
  {
   "cell_type": "code",
   "execution_count": 39,
   "id": "6cf59033-f7f5-41ca-bcd1-27f3b3add14d",
   "metadata": {},
   "outputs": [],
   "source": [
    "#2.Why *args and **kwargs is used in some functions? Create a function each for *args and **kwargs to demonstrate their use.\n",
    "\n",
    "def sum_numbers(*args):\n",
    "    total = 0\n",
    "    for num in args :\n",
    "        total += num\n",
    "    return total\n",
    "\n",
    "result1 = sum_numbers(1, 2, 3, 4)\n",
    "result2 = sum_numbers(10, 20, 30, 40, 50) "
   ]
  },
  {
   "cell_type": "code",
   "execution_count": 40,
   "id": "3dec50af-8384-41f5-aae6-f18ba8ef1e3e",
   "metadata": {},
   "outputs": [
    {
     "name": "stdout",
     "output_type": "stream",
     "text": [
      "10\n",
      "150\n"
     ]
    }
   ],
   "source": [
    "print(result1)  \n",
    "print(result2)  "
   ]
  },
  {
   "cell_type": "code",
   "execution_count": 47,
   "id": "d2a8ec25-d685-47e6-82bb-5aa46425d8f4",
   "metadata": {},
   "outputs": [],
   "source": [
    "def display_person_details (**kwargs) :\n",
    "    for key, value in kwargs.items () :\n",
    "        print(f\"{key} : {value}\")"
   ]
  },
  {
   "cell_type": "code",
   "execution_count": 48,
   "id": "34f0c0d1-a73a-49a3-8bfe-624efeb8534c",
   "metadata": {},
   "outputs": [
    {
     "name": "stdout",
     "output_type": "stream",
     "text": [
      "name : Pankaj\n",
      "age : 29\n",
      "city : Surendranagar\n",
      "name : Panesana\n",
      "occupation : Data Enginear\n",
      "country : India\n"
     ]
    }
   ],
   "source": [
    "display_person_details (name = \"Pankaj\", age = 29 , city = \"Surendranagar\")\n",
    "display_person_details (name = \"Panesana\", occupation = \"Data Enginear\", country=\"India\")"
   ]
  },
  {
   "cell_type": "code",
   "execution_count": 1,
   "id": "f87c8eca-c1e2-484f-8102-7911345b9a5e",
   "metadata": {},
   "outputs": [
    {
     "name": "stdout",
     "output_type": "stream",
     "text": [
      "2\n",
      "4\n",
      "6\n",
      "8\n",
      "10\n"
     ]
    }
   ],
   "source": [
    "\"\"\"3.What is an iterator in python? Name the method used to initialise the iterator object and the method\n",
    "used for iteration. Use these methods to print the first five elements of the given list \n",
    "[2, 4, 6, 8, 10, 12, 14, 16, 18, 20]\"\"\"\n",
    "\n",
    "my_list = [2, 4, 6, 8, 10, 12, 14, 16, 18, 20]\n",
    "\n",
    "my_iterator = iter(my_list)\n",
    "\n",
    "for i in range(5) :\n",
    "    try :\n",
    "        element = next (my_iterator)\n",
    "        print(element)\n",
    "    except StopIteration:\n",
    "        break"
   ]
  },
  {
   "cell_type": "code",
   "execution_count": 28,
   "id": "d1c5f046-475b-405e-9211-6252bfbf0555",
   "metadata": {},
   "outputs": [],
   "source": [
    "#4.What is a generator function in python? Why yield keyword is used? Give an example of a generator function.\n",
    "\n",
    "def generate_squares(limit):\n",
    "    for num in range(1, limit + 1):\n",
    "        yield num ** 2"
   ]
  },
  {
   "cell_type": "code",
   "execution_count": 29,
   "id": "1aa58c54-23a6-4b53-8ccc-63bbde81d027",
   "metadata": {},
   "outputs": [],
   "source": [
    "squares_generator = generate_squares(5)"
   ]
  },
  {
   "cell_type": "code",
   "execution_count": 30,
   "id": "ab5888d4-6808-4111-8f50-ee2e993405e4",
   "metadata": {},
   "outputs": [
    {
     "name": "stdout",
     "output_type": "stream",
     "text": [
      "1\n",
      "4\n",
      "9\n",
      "16\n",
      "25\n"
     ]
    }
   ],
   "source": [
    "for square in squares_generator:\n",
    "    print(square)"
   ]
  },
  {
   "cell_type": "code",
   "execution_count": 11,
   "id": "adadc8d9-e9fb-499e-b103-f7b9104d311a",
   "metadata": {},
   "outputs": [],
   "source": [
    "# 5. Create a generator function for prime numbers less than 1000. Use the next() method to print the first 20 prime numbers.\n",
    "\n",
    "def is_prime(num ) :\n",
    "    if num <= 1 :\n",
    "        return False\n",
    "    if num <= 3:\n",
    "        return True\n",
    "    if num % 2 == 0 or num % 3 == 0 :\n",
    "        return False\n",
    "    i = 5\n",
    "    while i * i <= num :\n",
    "        if num % i == 0 or num % (i + 2) == 0 :\n",
    "            return False\n",
    "        i += 6\n",
    "    return True\n",
    "\n",
    "def prime_generator(limit) :\n",
    "    num = 2\n",
    "    while num < limit :\n",
    "        if is_prime(num) :\n",
    "            yield num\n",
    "        num += 1"
   ]
  },
  {
   "cell_type": "code",
   "execution_count": 12,
   "id": "5dc41abb-50f0-42d2-8ab0-04da40e28c5b",
   "metadata": {},
   "outputs": [],
   "source": [
    "prime_gen = prime_generator(1000)"
   ]
  },
  {
   "cell_type": "code",
   "execution_count": 13,
   "id": "d9e66c7f-f870-42d3-8551-9199e6df32c5",
   "metadata": {},
   "outputs": [
    {
     "name": "stdout",
     "output_type": "stream",
     "text": [
      "2\n",
      "3\n",
      "5\n",
      "7\n",
      "11\n",
      "13\n",
      "17\n",
      "19\n",
      "23\n",
      "29\n",
      "31\n",
      "37\n",
      "41\n",
      "43\n",
      "47\n",
      "53\n",
      "59\n",
      "61\n",
      "67\n",
      "71\n"
     ]
    }
   ],
   "source": [
    "for _ in range(20):\n",
    "    prime = next(prime_gen)\n",
    "    print(prime)"
   ]
  },
  {
   "cell_type": "code",
   "execution_count": 25,
   "id": "06887d27-5fd9-420d-9327-dc3a71b2f674",
   "metadata": {},
   "outputs": [],
   "source": [
    "# 6.Write a python program to print the first 10 Fibonacci numbers using a while loop.\n",
    "\n",
    "def print_first_10_fibonacci():\n",
    "    a, b = 0 , 1\n",
    "    count = 0\n",
    "    while count < 10:\n",
    "        print(a, end = \" \")\n",
    "        a, b = b , a + b\n",
    "        count += 1"
   ]
  },
  {
   "cell_type": "code",
   "execution_count": 26,
   "id": "611097f3-086a-42ef-9100-1ffb44e49b48",
   "metadata": {},
   "outputs": [
    {
     "name": "stdout",
     "output_type": "stream",
     "text": [
      "0 1 1 2 3 5 8 13 21 34 "
     ]
    }
   ],
   "source": [
    "print_first_10_fibonacci()"
   ]
  },
  {
   "cell_type": "code",
   "execution_count": 27,
   "id": "3f52d48d-ac0b-4ce9-a6c3-5f38c897ba78",
   "metadata": {},
   "outputs": [
    {
     "name": "stdout",
     "output_type": "stream",
     "text": [
      "['w', 's', 'k', 'i', 'l', 'l', 's']\n"
     ]
    }
   ],
   "source": [
    "# 7.Write a List Comprehension to iterate through the given string: ‘pwskills’.\n",
    "\n",
    "input_string = \"pwskills\"\n",
    "output_list = [char for char in input_string if char in \"wskil\"]\n",
    "print(output_list)"
   ]
  },
  {
   "cell_type": "code",
   "execution_count": 14,
   "id": "dc08613a-c1c5-4b36-9de1-6d2fa751cc84",
   "metadata": {},
   "outputs": [],
   "source": [
    "# 8.Write a python program to check whether a given number is Palindrome or not using a while loop.\n",
    "\n",
    "def is_palindrome(number):\n",
    "    original_number = number\n",
    "    reversed_number = 0\n",
    "    \n",
    "    while number > 0:\n",
    "        digit = number % 10\n",
    "        reversed_number = reversed_number * 10 + digit\n",
    "        number //= 10\n",
    "        return original_number == reversed_number"
   ]
  },
  {
   "cell_type": "code",
   "execution_count": 15,
   "id": "38210642-7015-4f5f-b672-0df0a2dfd3a0",
   "metadata": {},
   "outputs": [],
   "source": [
    "numbers_to_check = [121, 12321, 12345, 1001, 1234321]"
   ]
  },
  {
   "cell_type": "code",
   "execution_count": 19,
   "id": "e6f392b7-d5a0-46f4-b94b-203e4e79509a",
   "metadata": {},
   "outputs": [
    {
     "name": "stdout",
     "output_type": "stream",
     "text": [
      "121 is not a palindrome\n",
      "12321 is not a palindrome\n",
      "12345 is not a palindrome\n",
      "1001 is not a palindrome\n",
      "1234321 is not a palindrome\n"
     ]
    }
   ],
   "source": [
    "for num in numbers_to_check:\n",
    "    if is_palindrome(num):\n",
    "        print(f\"{num} is a palindrome\")\n",
    "    else:\n",
    "        print(f\"{num} is not a palindrome\")"
   ]
  },
  {
   "cell_type": "code",
   "execution_count": 22,
   "id": "ea72e125-ede3-4c1d-8baf-751e3363b600",
   "metadata": {},
   "outputs": [
    {
     "name": "stdout",
     "output_type": "stream",
     "text": [
      "[1, 3, 5, 7, 9, 11, 13, 15, 17, 19, 21, 23, 25, 27, 29, 31, 33, 35, 37, 39, 41, 43, 45, 47, 49, 51, 53, 55, 57, 59, 61, 63, 65, 67, 69, 71, 73, 75, 77, 79, 81, 83, 85, 87, 89, 91, 93, 95, 97, 99]\n"
     ]
    }
   ],
   "source": [
    "# 9.Write a code to print odd numbers from 1 to 100 using list comprehension.\n",
    "\n",
    "odd_numbers = [num for num in range(1 , 101) if num % 2 != 0]\n",
    "print(odd_numbers)"
   ]
  },
  {
   "cell_type": "code",
   "execution_count": null,
   "id": "091f8103-1b15-4feb-b71d-ffe64bc5805c",
   "metadata": {},
   "outputs": [],
   "source": []
  }
 ],
 "metadata": {
  "kernelspec": {
   "display_name": "Python 3 (ipykernel)",
   "language": "python",
   "name": "python3"
  },
  "language_info": {
   "codemirror_mode": {
    "name": "ipython",
    "version": 3
   },
   "file_extension": ".py",
   "mimetype": "text/x-python",
   "name": "python",
   "nbconvert_exporter": "python",
   "pygments_lexer": "ipython3",
   "version": "3.10.8"
  }
 },
 "nbformat": 4,
 "nbformat_minor": 5
}
